{
 "cells": [
  {
   "cell_type": "code",
   "execution_count": 12,
   "id": "a4d1787c",
   "metadata": {},
   "outputs": [],
   "source": [
    "from dotenv import load_dotenv\n",
    "import os\n",
    "load_dotenv()\n",
    "\n",
    "from typing import TypedDict, Annotated, List\n",
    "from langchain.chat_models import init_chat_model\n",
    "from langgraph.graph import  StateGraph , START , END\n",
    "from langgraph.graph.message import add_messages\n",
    "from langchain_google_genai import ChatGoogleGenerativeAI\n"
   ]
  },
  {
   "cell_type": "code",
   "execution_count": 15,
   "id": "8c7fc4df",
   "metadata": {},
   "outputs": [],
   "source": [
    "# llm = init_chat_model(\"google_genai:gemini-2.0-flash\")\n",
    "llm = ChatGoogleGenerativeAI(\n",
    "    model=\"gemini-1.5-flash\",\n",
    "    google_api_key=os.environ[\"GEMINI_API_KEY\"]\n",
    ")\n",
    "class State(TypedDict):\n",
    "    messages: Annotated[list, add_messages]\n",
    "\n",
    "def chatbot(state: State) -> State:\n",
    "    return {\"messages\": [llm.invoke(state[\"messages\"])]}\n",
    "\n",
    "builder = StateGraph(State)\n",
    "builder.add_node(\"chatbot_node\", chatbot)\n",
    "\n",
    "builder.add_edge(START, \"chatbot_node\")\n",
    "builder.add_edge(\"chatbot_node\", END)\n",
    "\n",
    "graph = builder.compile()"
   ]
  },
  {
   "cell_type": "code",
   "execution_count": 16,
   "id": "5d36df24",
   "metadata": {},
   "outputs": [
    {
     "data": {
      "text/plain": [
       "[HumanMessage(content='Who walked on the moon for the first time? Print only the name', additional_kwargs={}, response_metadata={}, id='8d0a9a1d-5bb5-40d3-90b5-3b6e701ac9f9'),\n",
       " AIMessage(content='Neil Armstrong', additional_kwargs={}, response_metadata={'prompt_feedback': {'block_reason': 0, 'safety_ratings': []}, 'finish_reason': 'STOP', 'model_name': 'gemini-1.5-flash', 'safety_ratings': []}, id='run--6557281e-839f-472a-bf86-c5f8eb6d4993-0', usage_metadata={'input_tokens': 14, 'output_tokens': 3, 'total_tokens': 17, 'input_token_details': {'cache_read': 0}})]"
      ]
     },
     "execution_count": 16,
     "metadata": {},
     "output_type": "execute_result"
    }
   ],
   "source": [
    "message = {\"role\": \"user\", \"content\": \"Who walked on the moon for the first time? Print only the name\"}\n",
    "\n",
    "response = graph.invoke({\"messages\":[message]})\n",
    "\n",
    "response[\"messages\"]\n"
   ]
  },
  {
   "cell_type": "code",
   "execution_count": 17,
   "id": "334a9408",
   "metadata": {},
   "outputs": [
    {
     "name": "stdout",
     "output_type": "stream",
     "text": [
      "Bot: I do not have access to real-time information, including the current time.  To get the current time, please check a clock, your computer or phone's clock, or an online time service.\n",
      "Bot: The CEO of Google (Alphabet Inc.) is Sundar Pichai.\n",
      "Bot: You previously asked me what the current time is.\n",
      "Bot: 2 + 22424 = 22426\n",
      "Bot: Normalization in a Database Management System (DBMS) is a process of organizing data to reduce redundancy and improve data integrity.  It involves dividing larger tables into smaller ones and defining relationships between them.  The goal is to isolate data so that additions, deletions, and modifications of a field can be made in just one table and then propagated through the rest of the database via the defined relationships.  This minimizes data redundancy and inconsistency.\n",
      "\n",
      "Normalization is achieved by applying a series of rules, often referred to as normal forms.  Each normal form builds upon the previous one, addressing specific types of redundancy.  The most common normal forms are:\n",
      "\n",
      "* **First Normal Form (1NF):**  Eliminates repeating groups of data within a table.  Each column should contain only atomic values (indivisible values).  This typically involves creating separate tables for related data and using primary keys to link them.\n",
      "\n",
      "* **Second Normal Form (2NF):**  Builds upon 1NF and addresses partial dependencies.  A partial dependency exists when a non-key attribute is dependent on only part of the primary key (in tables with composite keys).  To achieve 2NF, you need to break down the table into smaller tables so that each non-key attribute depends on the *entire* primary key.\n",
      "\n",
      "* **Third Normal Form (3NF):**  Builds upon 2NF and addresses transitive dependencies.  A transitive dependency exists when a non-key attribute depends on another non-key attribute, rather than the primary key directly.  To achieve 3NF, you need to separate tables so that each non-key attribute depends only on the primary key.\n",
      "\n",
      "* **Boyce-Codd Normal Form (BCNF):** A stricter version of 3NF, addressing certain anomalies that 3NF might not.  It ensures that every determinant is a candidate key.\n",
      "\n",
      "* **Fourth Normal Form (4NF):** Addresses multi-valued dependencies, where a single value in one column can be associated with multiple values in another column.\n",
      "\n",
      "* **Fifth Normal Form (5NF) and beyond:**  These higher normal forms address more complex dependencies and are less frequently used in practice.\n",
      "\n",
      "\n",
      "While normalization helps improve data integrity and efficiency, it can also increase complexity in querying and joining tables.  Therefore, the level of normalization applied depends on the specific application and its requirements.  Over-normalization can sometimes lead to performance issues.  Finding the right balance is key.\n",
      "Bot: It's nice to meet you, Vicky!\n",
      "Bot: Your name is Vicky.\n",
      "Bot: 5NF, or Fifth Normal Form, is a level of database normalization that addresses a very specific type of redundancy called a **join dependency**.  It's rarely encountered in practice and is significantly more complex than the lower normal forms (1NF, 2NF, 3NF, BCNF, 4NF).\n",
      "\n",
      "A join dependency exists when a table can be losslessly decomposed into multiple smaller tables, and then reconstructed (joined) without losing any information.  This decomposition is not implied by the lower normal forms.  In simpler terms, a table is in 5NF if it cannot be losslessly decomposed into smaller tables based on a join dependency that isn't already implied by the candidate keys.\n",
      "\n",
      "**Formal Definition:** A relation R is in 5NF if and only if every join dependency in R is implied by the candidate keys of R.\n",
      "\n",
      "It's crucial to understand that determining if a relation is in 5NF requires a deep understanding of join dependencies and their implications.  It's a complex topic usually studied in advanced database theory courses.  Most real-world database designs don't need to reach this level of normalization, as the benefits rarely outweigh the increased complexity.  Reaching 3NF or BCNF is usually sufficient for most applications.\n",
      "Bot: Did you mean \"name\"?\n",
      "Bot: Okay.  Is there anything I can help you with regarding names?\n",
      "Bot: I don't know your name.  You haven't told me.\n",
      "Bot: You are correct.  My apologies.  I have no memory of past conversations.  Each interaction with me starts fresh.  To help me, please tell me your name again.\n",
      "Bot: I have no memory of past conversations.  Each time we interact, it's a fresh start.  To get information from previous conversations, you would need to refer to your chat history or any records you might have kept.\n"
     ]
    },
    {
     "name": "stderr",
     "output_type": "stream",
     "text": [
      "d:\\Projects\\AgenticLanggraph\\.venv\\lib\\site-packages\\langchain_google_genai\\chat_models.py:1649: UserWarning: HumanMessage with empty content was removed to prevent API error\n",
      "  warnings.warn(\n"
     ]
    },
    {
     "name": "stdout",
     "output_type": "stream",
     "text": [
      "Bot: \n"
     ]
    },
    {
     "name": "stderr",
     "output_type": "stream",
     "text": [
      "d:\\Projects\\AgenticLanggraph\\.venv\\lib\\site-packages\\langchain_google_genai\\chat_models.py:1649: UserWarning: HumanMessage with empty content was removed to prevent API error\n",
      "  warnings.warn(\n"
     ]
    },
    {
     "name": "stdout",
     "output_type": "stream",
     "text": [
      "Bot: Okay. Is there anything else I can help you with?\n"
     ]
    },
    {
     "name": "stderr",
     "output_type": "stream",
     "text": [
      "d:\\Projects\\AgenticLanggraph\\.venv\\lib\\site-packages\\langchain_google_genai\\chat_models.py:1649: UserWarning: HumanMessage with empty content was removed to prevent API error\n",
      "  warnings.warn(\n"
     ]
    },
    {
     "name": "stdout",
     "output_type": "stream",
     "text": [
      "Bot: \n"
     ]
    },
    {
     "ename": "KeyboardInterrupt",
     "evalue": "Interrupted by user",
     "output_type": "error",
     "traceback": [
      "\u001b[1;31m---------------------------------------------------------------------------\u001b[0m",
      "\u001b[1;31mKeyboardInterrupt\u001b[0m                         Traceback (most recent call last)",
      "Cell \u001b[1;32mIn[17], line 4\u001b[0m\n\u001b[0;32m      1\u001b[0m state \u001b[38;5;241m=\u001b[39m \u001b[38;5;28;01mNone\u001b[39;00m\n\u001b[0;32m      3\u001b[0m \u001b[38;5;28;01mwhile\u001b[39;00m \u001b[38;5;28;01mTrue\u001b[39;00m:\n\u001b[1;32m----> 4\u001b[0m     in_message \u001b[38;5;241m=\u001b[39m \u001b[38;5;28;43minput\u001b[39;49m\u001b[43m(\u001b[49m\u001b[38;5;124;43m\"\u001b[39;49m\u001b[38;5;124;43mYou: \u001b[39;49m\u001b[38;5;124;43m\"\u001b[39;49m\u001b[43m)\u001b[49m\n\u001b[0;32m      5\u001b[0m     \u001b[38;5;28;01mif\u001b[39;00m in_message\u001b[38;5;241m.\u001b[39mlower() \u001b[38;5;129;01min\u001b[39;00m {\u001b[38;5;124m\"\u001b[39m\u001b[38;5;124mquit\u001b[39m\u001b[38;5;124m\"\u001b[39m,\u001b[38;5;124m\"\u001b[39m\u001b[38;5;124mexit\u001b[39m\u001b[38;5;124m\"\u001b[39m}:\n\u001b[0;32m      6\u001b[0m         \u001b[38;5;28;01mbreak\u001b[39;00m\n",
      "File \u001b[1;32md:\\Projects\\AgenticLanggraph\\.venv\\lib\\site-packages\\ipykernel\\kernelbase.py:1260\u001b[0m, in \u001b[0;36mKernel.raw_input\u001b[1;34m(self, prompt)\u001b[0m\n\u001b[0;32m   1258\u001b[0m     msg \u001b[38;5;241m=\u001b[39m \u001b[38;5;124m\"\u001b[39m\u001b[38;5;124mraw_input was called, but this frontend does not support input requests.\u001b[39m\u001b[38;5;124m\"\u001b[39m\n\u001b[0;32m   1259\u001b[0m     \u001b[38;5;28;01mraise\u001b[39;00m StdinNotImplementedError(msg)\n\u001b[1;32m-> 1260\u001b[0m \u001b[38;5;28;01mreturn\u001b[39;00m \u001b[38;5;28;43mself\u001b[39;49m\u001b[38;5;241;43m.\u001b[39;49m\u001b[43m_input_request\u001b[49m\u001b[43m(\u001b[49m\n\u001b[0;32m   1261\u001b[0m \u001b[43m    \u001b[49m\u001b[38;5;28;43mstr\u001b[39;49m\u001b[43m(\u001b[49m\u001b[43mprompt\u001b[49m\u001b[43m)\u001b[49m\u001b[43m,\u001b[49m\n\u001b[0;32m   1262\u001b[0m \u001b[43m    \u001b[49m\u001b[38;5;28;43mself\u001b[39;49m\u001b[38;5;241;43m.\u001b[39;49m\u001b[43m_parent_ident\u001b[49m\u001b[43m[\u001b[49m\u001b[38;5;124;43m\"\u001b[39;49m\u001b[38;5;124;43mshell\u001b[39;49m\u001b[38;5;124;43m\"\u001b[39;49m\u001b[43m]\u001b[49m\u001b[43m,\u001b[49m\n\u001b[0;32m   1263\u001b[0m \u001b[43m    \u001b[49m\u001b[38;5;28;43mself\u001b[39;49m\u001b[38;5;241;43m.\u001b[39;49m\u001b[43mget_parent\u001b[49m\u001b[43m(\u001b[49m\u001b[38;5;124;43m\"\u001b[39;49m\u001b[38;5;124;43mshell\u001b[39;49m\u001b[38;5;124;43m\"\u001b[39;49m\u001b[43m)\u001b[49m\u001b[43m,\u001b[49m\n\u001b[0;32m   1264\u001b[0m \u001b[43m    \u001b[49m\u001b[43mpassword\u001b[49m\u001b[38;5;241;43m=\u001b[39;49m\u001b[38;5;28;43;01mFalse\u001b[39;49;00m\u001b[43m,\u001b[49m\n\u001b[0;32m   1265\u001b[0m \u001b[43m\u001b[49m\u001b[43m)\u001b[49m\n",
      "File \u001b[1;32md:\\Projects\\AgenticLanggraph\\.venv\\lib\\site-packages\\ipykernel\\kernelbase.py:1305\u001b[0m, in \u001b[0;36mKernel._input_request\u001b[1;34m(self, prompt, ident, parent, password)\u001b[0m\n\u001b[0;32m   1302\u001b[0m \u001b[38;5;28;01mexcept\u001b[39;00m \u001b[38;5;167;01mKeyboardInterrupt\u001b[39;00m:\n\u001b[0;32m   1303\u001b[0m     \u001b[38;5;66;03m# re-raise KeyboardInterrupt, to truncate traceback\u001b[39;00m\n\u001b[0;32m   1304\u001b[0m     msg \u001b[38;5;241m=\u001b[39m \u001b[38;5;124m\"\u001b[39m\u001b[38;5;124mInterrupted by user\u001b[39m\u001b[38;5;124m\"\u001b[39m\n\u001b[1;32m-> 1305\u001b[0m     \u001b[38;5;28;01mraise\u001b[39;00m \u001b[38;5;167;01mKeyboardInterrupt\u001b[39;00m(msg) \u001b[38;5;28;01mfrom\u001b[39;00m\u001b[38;5;250m \u001b[39m\u001b[38;5;28;01mNone\u001b[39;00m\n\u001b[0;32m   1306\u001b[0m \u001b[38;5;28;01mexcept\u001b[39;00m \u001b[38;5;167;01mException\u001b[39;00m:\n\u001b[0;32m   1307\u001b[0m     \u001b[38;5;28mself\u001b[39m\u001b[38;5;241m.\u001b[39mlog\u001b[38;5;241m.\u001b[39mwarning(\u001b[38;5;124m\"\u001b[39m\u001b[38;5;124mInvalid Message:\u001b[39m\u001b[38;5;124m\"\u001b[39m, exc_info\u001b[38;5;241m=\u001b[39m\u001b[38;5;28;01mTrue\u001b[39;00m)\n",
      "\u001b[1;31mKeyboardInterrupt\u001b[0m: Interrupted by user"
     ]
    }
   ],
   "source": [
    "state = None\n",
    "\n",
    "while True:\n",
    "    in_message = input(\"You: \")\n",
    "    if in_message.lower() in {\"quit\",\"exit\"}:\n",
    "        break\n",
    "    if state is None:\n",
    "        state: State = {\n",
    "            \"messages\": [{\"role\": \"user\", \"content\": in_message}]\n",
    "        }\n",
    "    else:\n",
    "        state[\"messages\"].append({\"role\": \"user\", \"content\": in_message})\n",
    "\n",
    "    state = graph.invoke(state)\n",
    "    print(\"Bot:\", state[\"messages\"][-1].content)"
   ]
  },
  {
   "cell_type": "code",
   "execution_count": null,
   "id": "b8c108dc",
   "metadata": {},
   "outputs": [],
   "source": []
  }
 ],
 "metadata": {
  "kernelspec": {
   "display_name": "AgenticLanggraph",
   "language": "python",
   "name": "python3"
  },
  "language_info": {
   "codemirror_mode": {
    "name": "ipython",
    "version": 3
   },
   "file_extension": ".py",
   "mimetype": "text/x-python",
   "name": "python",
   "nbconvert_exporter": "python",
   "pygments_lexer": "ipython3",
   "version": "3.10.17"
  }
 },
 "nbformat": 4,
 "nbformat_minor": 5
}
